{
 "cells": [
  {
   "cell_type": "code",
   "execution_count": 1,
   "metadata": {},
   "outputs": [],
   "source": [
    "import numpy as np\n",
    "import time\n",
    "import pandas as pd\n",
    "import matplotlib.pyplot as plt"
   ]
  },
  {
   "cell_type": "code",
   "execution_count": 44,
   "metadata": {},
   "outputs": [],
   "source": [
    "def LoadData(file):\n",
    "    \n",
    "    print('loading data')\n",
    "    \n",
    "    # 读取训练集数据\n",
    "    Alldata = pd.read_csv(file)\n",
    "\n",
    "    # 将dataframe中的特征值部分转换成矩阵\n",
    "    data = np.mat(list(Alldata.iloc[:,1:].values))\n",
    "\n",
    "    # 将dataframe中的标记部分转换成矩阵\n",
    "    label = np.mat(Alldata['Label']).T\n",
    "    \n",
    "    print('end loading data')\n",
    "    \n",
    "    # 返回数据的特征部分和标记部分\n",
    "    return data, label"
   ]
  },
  {
   "cell_type": "code",
   "execution_count": 45,
   "metadata": {},
   "outputs": [],
   "source": [
    "def Distance(train_data, x):\n",
    "    \n",
    "    # 将新输入的实例点的特征值转换成矩阵\n",
    "    x = np.mat(x)\n",
    "    \n",
    "    # 计算该点到每个样本点的距离，这里使用的是欧式距离\n",
    "    d = np.sqrt(np.sum(np.square(train_data - x), axis = 1))\n",
    "    \n",
    "    # 样本点的个数就是距离数列中元素的个数\n",
    "    # 将距离矩阵转换成一个一维的数列\n",
    "    sampleNum = np.shape(train_data)[0]\n",
    "    dArr = np.array(d).reshape(sampleNum)\n",
    "\n",
    "    # 返回距离数列\n",
    "    return dArr"
   ]
  },
  {
   "cell_type": "code",
   "execution_count": 46,
   "metadata": {},
   "outputs": [],
   "source": [
    "def ClosestK(distance, K):\n",
    "    \n",
    "    # 得到对距离排序的index\n",
    "    # 比如np.argsort[1,3,2]得到的是[0,2,1]，输出为原列表中从小到大排列的元素的index\n",
    "    sort = np.argsort(distance)\n",
    "    \n",
    "    # 得到距离最近的K个点的index\n",
    "    sampleK_index = sort[:K]\n",
    "    \n",
    "    # 返回距离最近的K个点的index\n",
    "    return sampleK_index"
   ]
  },
  {
   "cell_type": "code",
   "execution_count": 47,
   "metadata": {},
   "outputs": [],
   "source": [
    "def ClassN(train_label, sampleK_index):\n",
    "    \n",
    "    # 得到类别的个数\n",
    "    ClassNum = len(np.unique(np.array(train_label)))\n",
    "    \n",
    "    # 准备一个列表，用来存放对应类别的个数，因为这里的类别就是0-9\n",
    "    # 因此可以用列表的index代表其类别\n",
    "    Class_record = [0] * ClassNum\n",
    "    \n",
    "    # 遍历每一个距离最近的样本点，sampleK_index中记录的是该点对应的train_label的index\n",
    "    # 因此train_label[index]即该点的类别，并在对应的class_record的位置+1\n",
    "    for index in sampleK_index:\n",
    "        # print(index)\n",
    "        # print(np.array(train_label)[index])\n",
    "        # print(np.array(train_label)[index][0])\n",
    "        Class_record[np.array(train_label)[index][0]] += 1\n",
    "    \n",
    "    # 找到Class_record中最大的值的index，即对应了最多个数的类别\n",
    "    Class = Class_record.index(max(Class_record))\n",
    "    \n",
    "    # 返回新输入实例的类\n",
    "    return Class"
   ]
  },
  {
   "cell_type": "code",
   "execution_count": 48,
   "metadata": {},
   "outputs": [],
   "source": [
    "def Classifier(train_data, train_label, test_data, test_label, K):\n",
    "    \n",
    "    start = time.time()\n",
    "    \n",
    "    # 赋予错误分类数量初值\n",
    "    errorCnt = 0\n",
    "    \n",
    "    # 得到测试集的记录的个数\n",
    "    testNum = np.shape(test_data)[0]\n",
    "    \n",
    "    # 遍历每一个新输入实例\n",
    "    for i in range(testNum):\n",
    "\n",
    "        # 显示正在进行第几个新输入实例点的分类\n",
    "        #print('classifying %d' % i)\n",
    "        \n",
    "        # 得到新输入点与所有训练集样本点的距离\n",
    "        dArr = Distance(train_data, test_data[i])\n",
    "        \n",
    "        # 得到距离新输入实例距离最短的K个点的index\n",
    "        sampleK_index = ClosestK(dArr, K)\n",
    "        \n",
    "        # 得到新输入实例的分类\n",
    "        C = ClassN(train_label, sampleK_index)\n",
    "        \n",
    "        # 如果分类错误，则errorCnt+1\n",
    "        if C != test_label[i]:\n",
    "            errorCnt += 1\n",
    "    \n",
    "    # 计算正确率\n",
    "    Accurate = 1 - (errorCnt / testNum)\n",
    "    \n",
    "    end = time.time()\n",
    "    print('Classifying time: ', end - start)\n",
    "    print('Accurate = ', Accurate)\n",
    "    \n",
    "    # 返回正确率\n",
    "    return Accurate"
   ]
  },
  {
   "cell_type": "code",
   "execution_count": 49,
   "metadata": {},
   "outputs": [
    {
     "name": "stdout",
     "output_type": "stream",
     "text": [
      "loading data\n",
      "end loading data\n",
      "loading data\n",
      "end loading data\n",
      "k值为： 3.0\n"
     ]
    },
    {
     "ename": "IndexError",
     "evalue": "list index out of range",
     "output_type": "error",
     "traceback": [
      "\u001b[1;31m---------------------------------------------------------------------------\u001b[0m",
      "\u001b[1;31mIndexError\u001b[0m                                Traceback (most recent call last)",
      "Cell \u001b[1;32mIn[49], line 26\u001b[0m\n\u001b[0;32m     23\u001b[0m start \u001b[39m=\u001b[39m time\u001b[39m.\u001b[39mtime()\n\u001b[0;32m     25\u001b[0m \u001b[39m# 得到正确率\u001b[39;00m\n\u001b[1;32m---> 26\u001b[0m Accurate \u001b[39m=\u001b[39m Classifier(train_data, train_label, test_data, test_label, \u001b[39mint\u001b[39;49m(k))\n\u001b[0;32m     28\u001b[0m \u001b[39m# 得到不同K值对应的一组正确率\u001b[39;00m\n\u001b[0;32m     29\u001b[0m Acc\u001b[39m.\u001b[39mappend(Accurate)\n",
      "Cell \u001b[1;32mIn[48], line 24\u001b[0m, in \u001b[0;36mClassifier\u001b[1;34m(train_data, train_label, test_data, test_label, K)\u001b[0m\n\u001b[0;32m     21\u001b[0m sampleK_index \u001b[39m=\u001b[39m ClosestK(dArr, K)\n\u001b[0;32m     23\u001b[0m \u001b[39m# 得到新输入实例的分类\u001b[39;00m\n\u001b[1;32m---> 24\u001b[0m C \u001b[39m=\u001b[39m ClassN(train_label, sampleK_index)\n\u001b[0;32m     26\u001b[0m \u001b[39m# 如果分类错误，则errorCnt+1\u001b[39;00m\n\u001b[0;32m     27\u001b[0m \u001b[39mif\u001b[39;00m C \u001b[39m!=\u001b[39m test_label[i]:\n",
      "Cell \u001b[1;32mIn[47], line 16\u001b[0m, in \u001b[0;36mClassN\u001b[1;34m(train_label, sampleK_index)\u001b[0m\n\u001b[0;32m     10\u001b[0m \u001b[39m# 遍历每一个距离最近的样本点，sampleK_index中记录的是该点对应的train_label的index\u001b[39;00m\n\u001b[0;32m     11\u001b[0m \u001b[39m# 因此train_label[index]即该点的类别，并在对应的class_record的位置+1\u001b[39;00m\n\u001b[0;32m     12\u001b[0m \u001b[39mfor\u001b[39;00m index \u001b[39min\u001b[39;00m sampleK_index:\n\u001b[0;32m     13\u001b[0m     \u001b[39m# print(index)\u001b[39;00m\n\u001b[0;32m     14\u001b[0m     \u001b[39m# print(np.array(train_label)[index])\u001b[39;00m\n\u001b[0;32m     15\u001b[0m     \u001b[39m# print(np.array(train_label)[index][0])\u001b[39;00m\n\u001b[1;32m---> 16\u001b[0m     Class_record[np\u001b[39m.\u001b[39marray(train_label)[index][\u001b[39m0\u001b[39m]] \u001b[39m+\u001b[39m\u001b[39m=\u001b[39m \u001b[39m1\u001b[39m\n\u001b[0;32m     18\u001b[0m \u001b[39m# 找到Class_record中最大的值的index，即对应了最多个数的类别\u001b[39;00m\n\u001b[0;32m     19\u001b[0m Class \u001b[39m=\u001b[39m Class_record\u001b[39m.\u001b[39mindex(\u001b[39mmax\u001b[39m(Class_record))\n",
      "\u001b[1;31mIndexError\u001b[0m: list index out of range"
     ]
    }
   ],
   "source": [
    "if __name__ == \"__main__\":\n",
    "\n",
    "    # 输入训练集\n",
    "    train_data, train_label = LoadData('augmented_rgb_label2.csv')\n",
    "    \n",
    "    # 输入测试集\n",
    "    test_data, test_label = LoadData('augmented_rgb_test2.csv')\n",
    "    \n",
    "    # 由于测试数据太多，这里仅考虑500条\n",
    "    # testN = 500\n",
    "    # test_data = test_data[0:testN]\n",
    "    # test_label = test_label[0:testN]\n",
    "    \n",
    "    # 考察不同的K值，即不同的近邻点的个数，对正确率的影响\n",
    "    K = np.linspace(3,6,4)\n",
    "    Acc = []\n",
    "    \n",
    "    # 开始对每个K值进行测试\n",
    "    for k in K:\n",
    "        print('k值为：', k)\n",
    "        \n",
    "        # 记录分类所需要的时间\n",
    "        start = time.time()\n",
    "        \n",
    "        # 得到正确率\n",
    "        Accurate = Classifier(train_data, train_label, test_data, test_label, int(k))\n",
    "        \n",
    "        # 得到不同K值对应的一组正确率\n",
    "        Acc.append(Accurate)\n",
    "        \n",
    "        # 记录不同K值所需时间\n",
    "        end = time.time()\n",
    "        t.append(end - start)\n",
    "        \n",
    "    # 画图\n",
    "    plt.plot(K,Acc)\n",
    "    plt.xlabel('lowest distance sample dots number')\n",
    "    plt.ylabel('Accurate')"
   ]
  },
  {
   "cell_type": "code",
   "execution_count": null,
   "metadata": {},
   "outputs": [],
   "source": []
  },
  {
   "cell_type": "code",
   "execution_count": null,
   "metadata": {},
   "outputs": [],
   "source": []
  },
  {
   "cell_type": "code",
   "execution_count": null,
   "metadata": {},
   "outputs": [],
   "source": []
  },
  {
   "cell_type": "code",
   "execution_count": null,
   "metadata": {},
   "outputs": [],
   "source": []
  },
  {
   "cell_type": "code",
   "execution_count": null,
   "metadata": {},
   "outputs": [],
   "source": []
  }
 ],
 "metadata": {
  "kernelspec": {
   "display_name": "Python 3",
   "language": "python",
   "name": "python3"
  },
  "language_info": {
   "codemirror_mode": {
    "name": "ipython",
    "version": 3
   },
   "file_extension": ".py",
   "mimetype": "text/x-python",
   "name": "python",
   "nbconvert_exporter": "python",
   "pygments_lexer": "ipython3",
   "version": "3.10.2"
  },
  "orig_nbformat": 4,
  "vscode": {
   "interpreter": {
    "hash": "26de051ba29f2982a8de78e945f0abaf191376122a1563185a90213a26c5da77"
   }
  }
 },
 "nbformat": 4,
 "nbformat_minor": 2
}
